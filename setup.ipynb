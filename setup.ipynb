{
 "cells": [
  {
   "cell_type": "code",
   "execution_count": 1,
   "metadata": {
    "metadata": {}
   },
   "outputs": [
    {
     "name": "stderr",
     "output_type": "stream",
     "text": [
      "Building network: 100%|█████████▉| 493/495 [00:00<00:00, 13059.35it/s]"
     ]
    },
    {
     "name": "stdout",
     "output_type": "stream",
     "text": [
      "[[ 0. -1.  0. ...  0.  0.  0.]\n",
      " [-1.  0. -1. ...  0.  0.  0.]\n",
      " [ 0. -1.  0. ...  0. -1.  0.]\n",
      " ...\n",
      " [ 0.  0.  0. ...  0.  0.  0.]\n",
      " [ 0.  0. -1. ...  0.  0.  0.]\n",
      " [ 0.  0.  0. ...  0.  0.  0.]]\n"
     ]
    },
    {
     "name": "stderr",
     "output_type": "stream",
     "text": [
      "\n"
     ]
    }
   ],
   "source": [
    "from pyGS.datastruct.scalefree2 import scalefree2\n",
    "from pyGS.datastruct.Dataset import Dataset\n",
    "from pyGS.datastruct.randomNet import randomNet\n",
    "from pyGS.datastruct.stabilize import stabilize\n",
    "from pyGS.datastruct.Network import Network\t\n",
    "##50sec to initially import"
   ]
  },
  {
   "cell_type": "code",
   "execution_count": 3,
   "metadata": {
    "metadata": {}
   },
   "outputs": [],
   "source": [
    "\n",
    "Ne = Network()\n",
    "import numpy as np\n",
    "# Defining number of nodes\n",
    "N = 10\n",
    "# Defining the sparsity\n",
    "S = 0.25\n",
    "A = randomNet(N,S)-np.eye(N)\n",
    "# A = stabilize(A,'iaa','high')\n",
    "# Net = Ne.Network(A,'random')\n",
    "# creator_setting = {'creator':'Nordlinglab_Justin'}\n",
    "# Net.setname(Net,creator_setting)\n"
   ]
  },
  {
   "cell_type": "code",
   "execution_count": 4,
   "metadata": {
    "metadata": {}
   },
   "outputs": [
    {
     "name": "stderr",
     "output_type": "stream",
     "text": [
      "Building network:  18%|█▊        | 657/3675 [00:00<00:00, 12366.64it/s]\n"
     ]
    },
    {
     "ename": "AttributeError",
     "evalue": "'numpy.ndarray' object has no attribute 'get'",
     "output_type": "error",
     "traceback": [
      "\u001b[0;31m---------------------------------------------------------------------------\u001b[0m",
      "\u001b[0;31mAttributeError\u001b[0m                            Traceback (most recent call last)",
      "File \u001b[0;32m<timed exec>:10\u001b[0m\n",
      "File \u001b[0;32m~/WRK/dcolinmorgan/pyGS/pyGS/datastruct/Network.py:17\u001b[0m, in \u001b[0;36mNetwork.__init__\u001b[0;34m(self, net)\u001b[0m\n\u001b[1;32m     15\u001b[0m     \u001b[38;5;28mself\u001b[39m\u001b[38;5;241m.\u001b[39minitialize_empty_network()\n\u001b[1;32m     16\u001b[0m \u001b[38;5;28;01melse\u001b[39;00m:\n\u001b[0;32m---> 17\u001b[0m     \u001b[38;5;28;43mself\u001b[39;49m\u001b[38;5;241;43m.\u001b[39;49m\u001b[43mload_network_from_data\u001b[49m\u001b[43m(\u001b[49m\u001b[43mnet\u001b[49m\u001b[43m)\u001b[49m\n",
      "File \u001b[0;32m~/WRK/dcolinmorgan/pyGS/pyGS/datastruct/Network.py:39\u001b[0m, in \u001b[0;36mNetwork.load_network_from_data\u001b[0;34m(self, net)\u001b[0m\n\u001b[1;32m     38\u001b[0m \u001b[38;5;28;01mdef\u001b[39;00m \u001b[38;5;21mload_network_from_data\u001b[39m(\u001b[38;5;28mself\u001b[39m, net):\n\u001b[0;32m---> 39\u001b[0m     \u001b[38;5;28mself\u001b[39m\u001b[38;5;241m.\u001b[39mname \u001b[38;5;241m=\u001b[39m \u001b[43mnet\u001b[49m\u001b[38;5;241;43m.\u001b[39;49m\u001b[43mget\u001b[49m(\u001b[38;5;124m'\u001b[39m\u001b[38;5;124mnetwork\u001b[39m\u001b[38;5;124m'\u001b[39m)\n\u001b[1;32m     40\u001b[0m     \u001b[38;5;28mself\u001b[39m\u001b[38;5;241m.\u001b[39mA \u001b[38;5;241m=\u001b[39m net\u001b[38;5;241m.\u001b[39mget(\u001b[38;5;124m'\u001b[39m\u001b[38;5;124mA\u001b[39m\u001b[38;5;124m'\u001b[39m, [])\n\u001b[1;32m     41\u001b[0m     \u001b[38;5;28mself\u001b[39m\u001b[38;5;241m.\u001b[39mG \u001b[38;5;241m=\u001b[39m net\u001b[38;5;241m.\u001b[39mget(\u001b[38;5;124m'\u001b[39m\u001b[38;5;124mG\u001b[39m\u001b[38;5;124m'\u001b[39m, [])\n",
      "\u001b[0;31mAttributeError\u001b[0m: 'numpy.ndarray' object has no attribute 'get'"
     ]
    }
   ],
   "source": [
    "%%time\n",
    "N = int(50)\n",
    "S = int(3)\n",
    "import pyGS.datastruct as datastruct\n",
    "# from pyGS.datastruct.scalefree2 import scalefree2\n",
    "# from pyGS.datastruct.scalefree import scalefree\n",
    "\n",
    "import scipy.sparse as sparse\n",
    "A = scalefree2(N, S)\n",
    "# A = stabilize(A,'iaa','low')\n",
    "Net = Network(net=A)"
   ]
  },
  {
   "cell_type": "code",
   "execution_count": null,
   "metadata": {
    "metadata": {}
   },
   "outputs": [],
   "source": [
    "if A is None:\n",
    "    print('A is None')"
   ]
  },
  {
   "cell_type": "code",
   "execution_count": null,
   "metadata": {
    "metadata": {}
   },
   "outputs": [],
   "source": [
    "import numpy as np\n",
    "from scipy.linalg import svd\n",
    "from scipy.stats import chi2\n",
    "import matplotlib.pyplot as plt\n",
    "\n",
    "# Assume Net.G is the static gain matrix and Net.network is the network adjacency matrix\n",
    "# For this example, we create a dummy network and a gain matrix\n",
    "N = 100  # Number of nodes\n",
    "Net_G = np.random.normal(size=(N, 2*N))  # Static gain model\n",
    "Net_network = np.random.rand(N, N) > 0.95  # Sparse network\n",
    "\n",
    "# Create P matrix\n",
    "P = -np.hstack([np.eye(N), np.eye(N)])\n",
    "\n",
    "# Create data\n",
    "X = np.dot(Net_G, P)  # Matrix multiplication\n",
    "\n",
    "# Add noise to data\n",
    "# Define signal-to-noise ratio\n",
    "SNR = 0.1  # usually 1 is low, 0.1 is medium, 0.01 is high noise\n",
    "s = svd(X, compute_uv=False)\n",
    "stdE = s[-1] / (SNR * np.sqrt(chi2.ppf(0.99, df=np.prod(P.shape))))  # Using 99% confidence\n",
    "\n",
    "# Estimate noise matrix\n",
    "E = stdE * np.random.randn(*P.shape)\n",
    "\n",
    "# Input noise matrix\n",
    "F = np.zeros_like(P)\n",
    "\n",
    "# Prepare data structure object\n",
    "D = {\n",
    "    'network': Net_network,\n",
    "    'E': E,\n",
    "    'F': F,\n",
    "    'Y': X + E,  # noise-free gene expression + noise\n",
    "    'P': P,\n",
    "    'lambda': [stdE**2, 0],\n",
    "    'cvY': stdE**2 * np.eye(N),\n",
    "    'cvP': np.zeros((N, N)),\n",
    "    'sdY': stdE * np.ones_like(P),\n",
    "    'sdP': np.zeros_like(P)\n",
    "}\n",
    "\n",
    "# Placeholder for creating data object with data \"D\" and scale-free network \"Net\"\n",
    "# Assuming we need to write a class or function `Dataset` and `Methods.lsco` to handle this\n",
    "# This part is highly context-specific and would require implementing or using existing library functions\n",
    "\n",
    "# Example placeholder functions and classes (implement these according to your actual needs)\n",
    "class Dataset:\n",
    "    def __init__(self, data, net):\n",
    "        self.data = data\n",
    "        self.net = net\n",
    "\n",
    "    # Placeholder for a method that runs inference\n",
    "    def run_inference(self, method, zeta):\n",
    "        # Example inference code (simplified)\n",
    "        return np.linalg.pinv(self.data['P']) @ self.data['Y'], zeta\n",
    "\n",
    "# Initialize Dataset\n",
    "data = Dataset(D, Net_network)\n",
    "\n",
    "# Now we can run inference and benchmark it against our gold standard\n",
    "zeta = np.logspace(-6, 0, 30)  # return 30 networks of full sparsity spectrum\n",
    "inf_method = 'lsco'\n",
    "Aest0, z0 = data.run_inference(inf_method, zeta)\n",
    "Aest01 = Aest0[:, :, 25]  # Select network 25\n",
    "\n",
    "# Display AUROC and max F1 score - placeholders for actual implementation\n",
    "print(\"AUROC: Placeholder value\")\n",
    "print(\"Max F1 score: Placeholder value\")\n",
    "\n",
    "# The above Python code requires actual implementation of the Methods and analyse classes/methods.\n"
   ]
  }
 ],
 "metadata": {
  "kernelspec": {
   "display_name": "pyGS",
   "language": "python",
   "name": "python3"
  },
  "language_info": {
   "codemirror_mode": {
    "name": "ipython",
    "version": 3
   },
   "file_extension": ".py",
   "mimetype": "text/x-python",
   "name": "python",
   "nbconvert_exporter": "python",
   "pygments_lexer": "ipython3",
   "version": "3.12.3"
  }
 },
 "nbformat": 4,
 "nbformat_minor": 2
}
